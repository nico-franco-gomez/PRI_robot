{
 "cells": [
  {
   "cell_type": "code",
   "execution_count": 4,
   "metadata": {},
   "outputs": [],
   "source": [
    "import numpy as np\n",
    "from parcours_create import Parcours"
   ]
  },
  {
   "cell_type": "code",
   "execution_count": 5,
   "metadata": {},
   "outputs": [
    {
     "ename": "TypeError",
     "evalue": "Parcours.add_point_SPTP() got an unexpected keyword argument 'params'",
     "output_type": "error",
     "traceback": [
      "\u001b[0;31m---------------------------------------------------------------------------\u001b[0m",
      "\u001b[0;31mTypeError\u001b[0m                                 Traceback (most recent call last)",
      "\u001b[1;32m/Users/nicolas/Documents/Uni/Master – 4. Semester INSA/Projet de recherche/Robot/trials parcours/trial.ipynb Cell 2'\u001b[0m in \u001b[0;36m<cell line: 5>\u001b[0;34m()\u001b[0m\n\u001b[1;32m      <a href='vscode-notebook-cell:/Users/nicolas/Documents/Uni/Master%20%E2%80%93%204.%20Semester%20INSA/Projet%20de%20recherche/Robot/trials%20parcours/trial.ipynb#ch0000003?line=0'>1</a>\u001b[0m par \u001b[39m=\u001b[39m Parcours(name\u001b[39m=\u001b[39m\u001b[39m'\u001b[39m\u001b[39mpoint_zero\u001b[39m\u001b[39m'\u001b[39m,base\u001b[39m=\u001b[39m\u001b[39m'\u001b[39m\u001b[39m[2]:straight_sol\u001b[39m\u001b[39m'\u001b[39m)\n\u001b[1;32m      <a href='vscode-notebook-cell:/Users/nicolas/Documents/Uni/Master%20%E2%80%93%204.%20Semester%20INSA/Projet%20de%20recherche/Robot/trials%20parcours/trial.ipynb#ch0000003?line=1'>2</a>\u001b[0m \u001b[39m# par.set_object_lims([(-183.5,183.5),(-80,80),(0,401)]) # Box\u001b[39;00m\n\u001b[1;32m      <a href='vscode-notebook-cell:/Users/nicolas/Documents/Uni/Master%20%E2%80%93%204.%20Semester%20INSA/Projet%20de%20recherche/Robot/trials%20parcours/trial.ipynb#ch0000003?line=2'>3</a>\u001b[0m \n\u001b[1;32m      <a href='vscode-notebook-cell:/Users/nicolas/Documents/Uni/Master%20%E2%80%93%204.%20Semester%20INSA/Projet%20de%20recherche/Robot/trials%20parcours/trial.ipynb#ch0000003?line=3'>4</a>\u001b[0m \u001b[39m# # Starting points\u001b[39;00m\n\u001b[0;32m----> <a href='vscode-notebook-cell:/Users/nicolas/Documents/Uni/Master%20%E2%80%93%204.%20Semester%20INSA/Projet%20de%20recherche/Robot/trials%20parcours/trial.ipynb#ch0000003?line=4'>5</a>\u001b[0m par\u001b[39m.\u001b[39;49madd_point_SPTP([\u001b[39m0\u001b[39;49m,\u001b[39m0\u001b[39;49m,\u001b[39m1000\u001b[39;49m],[\u001b[39m0\u001b[39;49m,\u001b[39m0\u001b[39;49m,\u001b[39m0\u001b[39;49m],\u001b[39m75\u001b[39;49m,params\u001b[39m=\u001b[39;49m{\u001b[39m'\u001b[39;49m\u001b[39mt\u001b[39;49m\u001b[39m'\u001b[39;49m:\u001b[39m'\u001b[39;49m\u001b[39m110010\u001b[39;49m\u001b[39m'\u001b[39;49m,\u001b[39m'\u001b[39;49m\u001b[39ms\u001b[39;49m\u001b[39m'\u001b[39;49m:\u001b[39m'\u001b[39;49m\u001b[39m110\u001b[39;49m\u001b[39m'\u001b[39;49m})\n\u001b[1;32m      <a href='vscode-notebook-cell:/Users/nicolas/Documents/Uni/Master%20%E2%80%93%204.%20Semester%20INSA/Projet%20de%20recherche/Robot/trials%20parcours/trial.ipynb#ch0000003?line=5'>6</a>\u001b[0m \u001b[39m# par.add_point_SPTP([-250,0,1000],ro,75)\u001b[39;00m\n\u001b[1;32m      <a href='vscode-notebook-cell:/Users/nicolas/Documents/Uni/Master%20%E2%80%93%204.%20Semester%20INSA/Projet%20de%20recherche/Robot/trials%20parcours/trial.ipynb#ch0000003?line=6'>7</a>\u001b[0m par\u001b[39m.\u001b[39mexport()\n",
      "\u001b[0;31mTypeError\u001b[0m: Parcours.add_point_SPTP() got an unexpected keyword argument 'params'"
     ]
    }
   ],
   "source": [
    "par = Parcours(name='point_zero',base='[2]:straight_sol')\n",
    "# par.set_object_lims([(-183.5,183.5),(-80,80),(0,401)]) # Box\n",
    "\n",
    "# # Starting points\n",
    "par.add_point_SPTP([0,0,1000],[0,0,0],75,params={'t':'110010','s':'110'})\n",
    "# par.add_point_SPTP([-250,0,1000],ro,75)\n",
    "par.export()"
   ]
  },
  {
   "cell_type": "code",
   "execution_count": 3,
   "metadata": {},
   "outputs": [],
   "source": [
    "r = 600\n",
    "points = []\n",
    "\n",
    "theta_vec = np.linspace(np.pi/2,0,10)\n",
    "i = 0\n",
    "theta_pos = True\n",
    "for theta in theta_vec:\n",
    "    phi_vec = np.linspace(np.pi/2,3*np.pi/2,len(theta_vec)-i)\n",
    "    if theta_pos:\n",
    "        for phi in phi_vec:\n",
    "            points.append( (par.spherical2cart((r,phi,theta)), ro , 'SLIN') )\n",
    "    else:\n",
    "        for phi in np.flip(phi_vec):\n",
    "            points.append( (par.spherical2cart((r,phi,theta)), ro , 'SLIN') )\n",
    "    i+=1\n",
    "    theta_pos = not theta_pos"
   ]
  },
  {
   "cell_type": "code",
   "execution_count": 4,
   "metadata": {},
   "outputs": [],
   "source": [
    "for n in points:\n",
    "    eval(f'''par.add_point_{n[2]}(n[0],n[1])''')"
   ]
  },
  {
   "cell_type": "code",
   "execution_count": 5,
   "metadata": {},
   "outputs": [
    {
     "name": "stdout",
     "output_type": "stream",
     "text": [
      "\n",
      "\tExported quarter_sphere.SRC and -.DAT Files\n",
      "        –––––––––––––––––––––––––––––––––––––––\n",
      "        Tool: [4]:Microflown3D\n",
      "        Base: [2]:straight_sol\n",
      "        No. of points: 57\n",
      "        Trust mode: False\n",
      "\n"
     ]
    }
   ],
   "source": [
    "par.export()"
   ]
  }
 ],
 "metadata": {
  "interpreter": {
   "hash": "4b73b53b1b20fdfc925888b141959e930185b778a3b265eb03db67104821b3b8"
  },
  "kernelspec": {
   "display_name": "Python 3.10.4 ('py310')",
   "language": "python",
   "name": "python3"
  },
  "language_info": {
   "codemirror_mode": {
    "name": "ipython",
    "version": 3
   },
   "file_extension": ".py",
   "mimetype": "text/x-python",
   "name": "python",
   "nbconvert_exporter": "python",
   "pygments_lexer": "ipython3",
   "version": "3.10.4"
  },
  "orig_nbformat": 4
 },
 "nbformat": 4,
 "nbformat_minor": 2
}
