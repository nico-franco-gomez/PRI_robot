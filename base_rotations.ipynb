{
 "cells": [
  {
   "cell_type": "code",
   "execution_count": 1,
   "metadata": {},
   "outputs": [],
   "source": [
    "import numpy as np\n",
    "import matplotlib.pyplot as plt\n",
    "import ipywidgets as ipw"
   ]
  },
  {
   "cell_type": "code",
   "execution_count": 4,
   "metadata": {},
   "outputs": [
    {
     "data": {
      "application/vnd.jupyter.widget-view+json": {
       "model_id": "8c394ac883d34e2c8f598ed756bb6d56",
       "version_major": 2,
       "version_minor": 0
      },
      "text/plain": [
       "interactive(children=(IntSlider(value=0, description='A', max=180, min=-180), IntSlider(value=0, description='…"
      ]
     },
     "metadata": {},
     "output_type": "display_data"
    }
   ],
   "source": [
    "%matplotlib inline\n",
    "def trafo_mat(A,B,C,deg=True):\n",
    "    '''\n",
    "    Az @ Ay @ Ax\n",
    "    '''\n",
    "    if deg:\n",
    "        A = A/180*np.pi\n",
    "        B = B/180*np.pi\n",
    "        C = C/180*np.pi\n",
    "    Ax = np.array([[1, 0, 0],\n",
    "                [0, np.cos(C), -np.sin(C)],\n",
    "                [0, np.sin(C),np.cos(C)]])\n",
    "    Ay = np.array([[np.cos(B),0, np.sin(B)],\n",
    "                    [0, 1, 0],\n",
    "                [ -np.sin(B),0,np.cos(B)]])\n",
    "    Az = np.array([[ np.cos(A),-np.sin(A), 0],\n",
    "                [ np.sin(A),np.cos(A),0],\n",
    "                [0, 0, 1]])\n",
    "    return Az @ Ay @ Ax\n",
    "    # return Ax @ Ay @ Az\n",
    "\n",
    "def plot_trafo(A,B,C):\n",
    "    vecx = np.array([1,0,0])\n",
    "    vecy = np.array([0,1,0])\n",
    "    vecz = np.array([0,0,1])\n",
    "\n",
    "    name = ['x', 'y', 'z']\n",
    "    fig,ax = plt.subplots(1,1,figsize=(10,10),subplot_kw={'projection':'3d'})\n",
    "    for ind, vec in enumerate([vecx,vecy,vecz]):\n",
    "        new_vec = trafo_mat(A,B,C) @ vec\n",
    "\n",
    "        ax.plot(xs=np.linspace(0,new_vec[0],20),ys=np.linspace(0,new_vec[1],20),\n",
    "        zs=np.linspace(0,new_vec[2],20), label=f'{name[ind]}')\n",
    "    # ax.plot(xs=np.linspace(0,1,20),ys=np.zeros(20),zs=np.zeros(20))\n",
    "    # ax.plot(zs=np.linspace(0,1,20),xs=np.zeros(20),ys=np.zeros(20))\n",
    "    # ax.plot(xs=np.linspace(0,1,20),zs=np.zeros(20),ys=np.zeros(20))\n",
    "    ax.set_ylim([-1.5,1.5])\n",
    "    ax.set_xlim([-1.5,1.5])\n",
    "    ax.set_zlim([-1.5,1.5])\n",
    "    ax.set_xlabel('$x$')\n",
    "    ax.set_ylabel('$y$')\n",
    "    ax.set_zlabel('$z$')\n",
    "    ax.legend(loc='center', bbox_to_anchor=(1.1, 0.5))\n",
    "\n",
    "ipw.interact(plot_trafo,A=(-180,180,1),B=(-180,180,1),C=(-180,180,1));"
   ]
  },
  {
   "cell_type": "markdown",
   "metadata": {},
   "source": [
    "## See\n",
    "https://stackoverflow.com/questions/22867620/putting-arrowheads-on-vectors-in-matplotlibs-3d-plot"
   ]
  },
  {
   "cell_type": "code",
   "execution_count": 3,
   "metadata": {},
   "outputs": [],
   "source": [
    "# import numpy as np\n",
    "# from numpy import *\n",
    "# from matplotlib import pyplot as plt\n",
    "# from mpl_toolkits.mplot3d import Axes3D\n",
    "# from matplotlib.patches import FancyArrowPatch\n",
    "# from mpl_toolkits.mplot3d import proj3d\n",
    "\n",
    "# class Arrow3D(FancyArrowPatch):\n",
    "#     def __init__(self, xs, ys, zs, *args, **kwargs):\n",
    "#         FancyArrowPatch.__init__(self, (0,0), (0,0), *args, **kwargs)\n",
    "#         self._verts3d = xs, ys, zs\n",
    "\n",
    "#     def draw(self, renderer):\n",
    "#         xs3d, ys3d, zs3d = self._verts3d\n",
    "#         xs, ys, zs = proj3d.proj_transform(xs3d, ys3d, zs3d, renderer.M)\n",
    "#         self.set_positions((xs[0],ys[0]),(xs[1],ys[1]))\n",
    "#         FancyArrowPatch.draw(self, renderer)\n",
    "\n"
   ]
  }
 ],
 "metadata": {
  "interpreter": {
   "hash": "4b73b53b1b20fdfc925888b141959e930185b778a3b265eb03db67104821b3b8"
  },
  "kernelspec": {
   "display_name": "Python 3.10.4 ('py310')",
   "language": "python",
   "name": "python3"
  },
  "language_info": {
   "codemirror_mode": {
    "name": "ipython",
    "version": 3
   },
   "file_extension": ".py",
   "mimetype": "text/x-python",
   "name": "python",
   "nbconvert_exporter": "python",
   "pygments_lexer": "ipython3",
   "version": "3.10.4"
  },
  "orig_nbformat": 4
 },
 "nbformat": 4,
 "nbformat_minor": 2
}
